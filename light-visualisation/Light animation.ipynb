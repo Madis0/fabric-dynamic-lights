{
 "cells": [
  {
   "cell_type": "code",
   "execution_count": 90,
   "metadata": {},
   "outputs": [],
   "source": [
    "import numpy as np\n",
    "from PIL import Image\n",
    "import math"
   ]
  },
  {
   "cell_type": "code",
   "execution_count": 91,
   "metadata": {},
   "outputs": [],
   "source": [
    "canvas_radius = 4\n",
    "canvas_size = 2 * canvas_radius + 1\n",
    "canvas_dimension = (canvas_size, canvas_size)"
   ]
  },
  {
   "cell_type": "code",
   "execution_count": 92,
   "metadata": {},
   "outputs": [],
   "source": [
    "multiplier = 2\n",
    "lightmap_fn = lambda sqrd_dist: max(0, min(-(multiplier*(sqrd_dist))+18,14))"
   ]
  },
  {
   "cell_type": "code",
   "execution_count": 93,
   "metadata": {},
   "outputs": [],
   "source": [
    "def reduce(arr, fn, start_val = None):\n",
    "    if start_val is None:\n",
    "        if len(arr) == 0:\n",
    "            accum = start_val\n",
    "        else:\n",
    "            accum = arr[0]\n",
    "            arr = arr[1:]\n",
    "    else:\n",
    "        accum = start_val\n",
    "    for i in arr:\n",
    "        accum = fn(accum, i)\n",
    "    return accum"
   ]
  },
  {
   "cell_type": "code",
   "execution_count": 94,
   "metadata": {},
   "outputs": [],
   "source": [
    "def dist(start, end):\n",
    "    if len(start) > len(end):\n",
    "        end += [0] * (len(start) - len(end))\n",
    "    else:\n",
    "        start += [0] * (len(end) - len(start))\n",
    "    assert len(end) == len(start)\n",
    "    distances = [start[i] - end[i] for i in range(len(start))]\n",
    "    distances = [i**2 for i in distances]\n",
    "    return math.sqrt(reduce(distances, lambda a,b:a+b))\n",
    "\n",
    "def sqrd_dist(start, end):\n",
    "    if len(start) > len(end):\n",
    "        end += [0] * (len(start) - len(end))\n",
    "    else:\n",
    "        start += [0] * (len(end) - len(start))\n",
    "    assert len(end) == len(start)\n",
    "    distances = [start[i] - end[i] for i in range(len(start))]\n",
    "    distances = [i**2 for i in distances]\n",
    "    return reduce(distances, lambda a,b:a+b)"
   ]
  },
  {
   "cell_type": "code",
   "execution_count": 95,
   "metadata": {},
   "outputs": [],
   "source": [
    "delta_x = 0.2\n",
    "delta_y = 0\n",
    "delta_fn = lambda x,y: (x + delta_x, y + delta_y)\n",
    "x, y = 0, canvas_radius\n",
    "\n",
    "def generate_image(start_x, start_y, canvas_dimension, delta_fn, lightmap_fn, dist_fn):\n",
    "    while(start_x < canvas_dimension[0] and start_y < canvas_dimension[1]):\n",
    "        m = np.zeros(canvas_dimension, np.uint8)\n",
    "        for y in range(canvas_dimension[0]):\n",
    "            for x in range(canvas_dimension[1]):\n",
    "                distance = dist_fn([start_x, start_y], [x, y])\n",
    "                light_level = lightmap_fn(distance)\n",
    "                m[y][x] = math.floor(light_level / 16 * 255)\n",
    "        yield m\n",
    "        start_x, start_y = delta_fn(start_x, start_y)"
   ]
  },
  {
   "cell_type": "code",
   "execution_count": 96,
   "metadata": {},
   "outputs": [],
   "source": [
    "imgs = map(Image.fromarray, generate_image(x, y, canvas_dimension, delta_fn, lightmap_fn, sqrd_dist))\n",
    "imgs = map(lambda im: im.resize((canvas_size * 16, canvas_size * 16), Image.NEAREST), imgs)\n",
    "im = next(imgs)\n",
    "im.save('out.gif', save_all=True, append_images=imgs, loop = 0)"
   ]
  }
 ],
 "metadata": {
  "kernelspec": {
   "display_name": "Python 3",
   "language": "python",
   "name": "python3"
  },
  "language_info": {
   "codemirror_mode": {
    "name": "ipython",
    "version": 3
   },
   "file_extension": ".py",
   "mimetype": "text/x-python",
   "name": "python",
   "nbconvert_exporter": "python",
   "pygments_lexer": "ipython3",
   "version": "3.8.5"
  }
 },
 "nbformat": 4,
 "nbformat_minor": 4
}
