{
 "cells": [
  {
   "cell_type": "code",
   "execution_count": 1,
   "metadata": {},
   "outputs": [],
   "source": [
    "import numpy as np\n",
    "from PIL import Image\n",
    "import math"
   ]
  },
  {
   "cell_type": "code",
   "execution_count": 2,
   "metadata": {},
   "outputs": [],
   "source": [
    "canvas_radius = 4\n",
    "canvas_size = 2 * canvas_radius + 1\n",
    "canvas_dimension = (canvas_size, canvas_size)"
   ]
  },
  {
   "cell_type": "code",
   "execution_count": 3,
   "metadata": {},
   "outputs": [],
   "source": [
    "multiplier = 2\n",
    "lightmap_fn = lambda sqrd_dist: max(0, min(-(multiplier*(sqrd_dist))+18,14))"
   ]
  },
  {
   "cell_type": "code",
   "execution_count": 4,
   "metadata": {},
   "outputs": [],
   "source": [
    "def reduce(arr, fn, start_val = None):\n",
    "    if start_val is None:\n",
    "        if len(arr) == 0:\n",
    "            accum = start_val\n",
    "        else:\n",
    "            accum = arr[0]\n",
    "            arr = arr[1:]\n",
    "    else:\n",
    "        accum = start_val\n",
    "    for i in arr:\n",
    "        accum = fn(accum, i)\n",
    "    return accum"
   ]
  },
  {
   "cell_type": "code",
   "execution_count": 5,
   "metadata": {},
   "outputs": [],
   "source": [
    "def dist(start, end):\n",
    "    if len(start) > len(end):\n",
    "        end += [0] * (len(start) - len(end))\n",
    "    else:\n",
    "        start += [0] * (len(end) - len(start))\n",
    "    assert len(end) == len(start)\n",
    "    distances = [start[i] - end[i] for i in range(len(start))]\n",
    "    distances = [i**2 for i in distances]\n",
    "    return math.sqrt(reduce(distances, lambda a,b:a+b))\n",
    "\n",
    "def sqrd_dist(start, end):\n",
    "    if len(start) > len(end):\n",
    "        end += [0] * (len(start) - len(end))\n",
    "    else:\n",
    "        start += [0] * (len(end) - len(start))\n",
    "    assert len(end) == len(start)\n",
    "    distances = [start[i] - end[i] for i in range(len(start))]\n",
    "    distances = [i**2 for i in distances]\n",
    "    return reduce(distances, lambda a,b:a+b)"
   ]
  },
  {
   "cell_type": "code",
   "execution_count": 6,
   "metadata": {},
   "outputs": [],
   "source": [
    "delta_x = 0.2\n",
    "delta_y = 0\n",
    "delta_fn = lambda x,y: (x + delta_x, y + delta_y)\n",
    "x, y = 0, canvas_radius\n",
    "\n",
    "def generate_image(start_x, start_y, canvas_dimension, delta_fn, lightmap_fn, dist_fn):\n",
    "    while(start_x < canvas_dimension[0] and start_y < canvas_dimension[1]):\n",
    "        m = np.zeros(canvas_dimension, np.uint8)\n",
    "        for y in range(canvas_dimension[0]):\n",
    "            for x in range(canvas_dimension[1]):\n",
    "                distance = dist_fn([start_x, start_y], [x, y])\n",
    "                light_level = lightmap_fn(distance)\n",
    "                m[y][x] = math.floor(light_level / 16 * 255)\n",
    "        yield m\n",
    "        start_x, start_y = delta_fn(start_x, start_y)"
   ]
  },
  {
   "cell_type": "code",
   "execution_count": 7,
   "metadata": {},
   "outputs": [],
   "source": [
    "imgs = map(Image.fromarray, generate_image(x, y, canvas_dimension, delta_fn, lightmap_fn, sqrd_dist))\n",
    "imgs = map(lambda im: im.resize((canvas_size * 16, canvas_size * 16), Image.NEAREST), imgs)\n",
    "im = next(imgs)\n",
    "im.save('out.gif', save_all=True, append_images=imgs, loop = 0)"
   ]
  },
  {
   "cell_type": "code",
   "execution_count": null,
   "metadata": {},
   "outputs": [],
   "source": [
    "# Best for radius 7\n",
    "factor_fn = lambda x: max(0, min(1, x * -0.03 + 1.08))\n",
    "\n",
    "# Best for radius 3\n",
    "factor_fn = lambda x: max(0, min(.75, x * -0.27 + 1.1))\n"
   ]
  },
  {
   "cell_type": "code",
   "execution_count": 103,
   "metadata": {},
   "outputs": [],
   "source": [
    "radius = 7\n",
    "padding = 2\n",
    "img_size = (radius + padding, radius + padding)\n",
    "center = (radius + padding) // 2\n",
    "\n",
    "sqrd_dist = lambda x, y: (center - x)**2 + (center - y)**2\n",
    "factor_fn = lambda x: max(0, min(.75, x * -0.27 + 1.1))\n",
    "# factor_fn = lambda x: max(0, min(1, 1.5 - x**(1/2) * .25))\n",
    "\n",
    "\n",
    "max_light_level = 15.0\n",
    "\n",
    "matrices = []\n",
    "reverse = False\n",
    "\n",
    "for dz in np.arange(-.5, .6, .1):\n",
    "    for dx in np.arange(-.5, .6, .1) if reverse else np.arange(.5, -.6, -.1):\n",
    "        ix = padding\n",
    "        iy = padding\n",
    "        m = np.zeros(img_size, dtype=float)\n",
    "        while(ix < img_size[0] - padding):\n",
    "            while(iy < img_size[0] - padding):\n",
    "                dist = sqrd_dist(ix + dx, iy + dz)\n",
    "                factor = factor_fn(dist)\n",
    "                light_level = factor * max_light_level\n",
    "#                 print(f\"ix {ix}, iy {iy}, light {light_level}\")\n",
    "                m[iy][ix] = light_level / 15 * 255\n",
    "                iy += 1\n",
    "            ix += 1\n",
    "            iy = padding\n",
    "        matrices.append(m)\n",
    "        reverse = not reverse\n",
    "        \n",
    "imgs = map(Image.fromarray, matrices)\n",
    "imgs = map(lambda im: im.resize((canvas_size * 16, canvas_size * 16), Image.NEAREST), imgs)\n",
    "im = next(imgs)\n",
    "im.save('out.gif', save_all=True, append_images=imgs, loop = 0, duration=6)"
   ]
  },
  {
   "cell_type": "code",
   "execution_count": 91,
   "metadata": {},
   "outputs": [
    {
     "data": {
      "text/plain": [
       "0"
      ]
     },
     "execution_count": 91,
     "metadata": {},
     "output_type": "execute_result"
    }
   ],
   "source": [
    "factor_fn(15 * 15)"
   ]
  },
  {
   "cell_type": "code",
   "execution_count": 72,
   "metadata": {},
   "outputs": [
    {
     "data": {
      "text/plain": [
       "0.9"
      ]
     },
     "execution_count": 72,
     "metadata": {},
     "output_type": "execute_result"
    }
   ],
   "source": [
    "1.5-25**(1/2) * .12"
   ]
  },
  {
   "cell_type": "code",
   "execution_count": 97,
   "metadata": {},
   "outputs": [
    {
     "data": {
      "text/plain": [
       "6.05"
      ]
     },
     "execution_count": 97,
     "metadata": {},
     "output_type": "execute_result"
    }
   ],
   "source": [
    "len(matrices) / 20"
   ]
  }
 ],
 "metadata": {
  "kernelspec": {
   "display_name": "Python 3",
   "language": "python",
   "name": "python3"
  },
  "language_info": {
   "codemirror_mode": {
    "name": "ipython",
    "version": 3
   },
   "file_extension": ".py",
   "mimetype": "text/x-python",
   "name": "python",
   "nbconvert_exporter": "python",
   "pygments_lexer": "ipython3",
   "version": "3.8.5"
  }
 },
 "nbformat": 4,
 "nbformat_minor": 4
}
